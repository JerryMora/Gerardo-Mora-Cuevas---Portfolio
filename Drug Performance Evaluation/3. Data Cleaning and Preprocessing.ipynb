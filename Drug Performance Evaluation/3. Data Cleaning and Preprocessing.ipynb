{
 "cells": [
  {
   "cell_type": "markdown",
   "id": "abeb2266-21c2-456b-8df8-547a2ccd2f65",
   "metadata": {
    "tags": []
   },
   "source": [
    "# Project - Drug Performance Evaluation\n",
    "#### By Gerardo Mora Cuevas\n",
    "\n",
    "### Data Cleaning and Preprocessing\n",
    "\n",
    "### Dataset: drug_cleaned"
   ]
  },
  {
   "cell_type": "markdown",
   "id": "5aea8664-b34d-4c2a-b274-68a3a618155f",
   "metadata": {},
   "source": [
    "First, let's import the dataset with pandas:"
   ]
  },
  {
   "cell_type": "code",
   "execution_count": 9,
   "id": "1dc5c408-c7ed-4dc2-aca4-19521b446d78",
   "metadata": {
    "tags": []
   },
   "outputs": [],
   "source": [
    "import pandas as pd\n",
    "import numpy as np\n",
    "#df = pd.read_csv(\"drug_cleaned.csv\")\n",
    "df = pd.read_csv(\"Drug.csv\")"
   ]
  },
  {
   "cell_type": "markdown",
   "id": "0beff8d7-17fa-46a5-bd92-db45ffbb5515",
   "metadata": {},
   "source": [
    "The first 5 rows of the dataframe:"
   ]
  },
  {
   "cell_type": "code",
   "execution_count": 10,
   "id": "999c43d2-3206-4a31-8f5b-94130fa826b7",
   "metadata": {
    "tags": []
   },
   "outputs": [
    {
     "data": {
      "text/html": [
       "<div>\n",
       "<style scoped>\n",
       "    .dataframe tbody tr th:only-of-type {\n",
       "        vertical-align: middle;\n",
       "    }\n",
       "\n",
       "    .dataframe tbody tr th {\n",
       "        vertical-align: top;\n",
       "    }\n",
       "\n",
       "    .dataframe thead th {\n",
       "        text-align: right;\n",
       "    }\n",
       "</style>\n",
       "<table border=\"1\" class=\"dataframe\">\n",
       "  <thead>\n",
       "    <tr style=\"text-align: right;\">\n",
       "      <th></th>\n",
       "      <th>Condition</th>\n",
       "      <th>Drug</th>\n",
       "      <th>Indication</th>\n",
       "      <th>Type</th>\n",
       "      <th>Reviews</th>\n",
       "      <th>Effective</th>\n",
       "      <th>EaseOfUse</th>\n",
       "      <th>Satisfaction</th>\n",
       "      <th>Information</th>\n",
       "    </tr>\n",
       "  </thead>\n",
       "  <tbody>\n",
       "    <tr>\n",
       "      <th>0</th>\n",
       "      <td>Acute Bacterial Sinusitis</td>\n",
       "      <td>Levofloxacin</td>\n",
       "      <td>On Label</td>\n",
       "      <td>RX</td>\n",
       "      <td>994 Reviews</td>\n",
       "      <td>2.52</td>\n",
       "      <td>3.01</td>\n",
       "      <td>1.84</td>\n",
       "      <td>\\r\\n\\t\\t\\t\\t\\tLevofloxacin is used to treat a ...</td>\n",
       "    </tr>\n",
       "    <tr>\n",
       "      <th>1</th>\n",
       "      <td>Acute Bacterial Sinusitis</td>\n",
       "      <td>Levofloxacin</td>\n",
       "      <td>On Label</td>\n",
       "      <td>RX</td>\n",
       "      <td>994 Reviews</td>\n",
       "      <td>2.52</td>\n",
       "      <td>3.01</td>\n",
       "      <td>1.84</td>\n",
       "      <td>\\r\\n\\t\\t\\t\\t\\tLevofloxacin is used to treat a ...</td>\n",
       "    </tr>\n",
       "    <tr>\n",
       "      <th>2</th>\n",
       "      <td>Acute Bacterial Sinusitis</td>\n",
       "      <td>Moxifloxacin</td>\n",
       "      <td>On Label</td>\n",
       "      <td>RX</td>\n",
       "      <td>755 Reviews</td>\n",
       "      <td>2.78</td>\n",
       "      <td>3.00</td>\n",
       "      <td>2.08</td>\n",
       "      <td>\\r\\n\\t\\t\\t\\t\\t This is a generic drug. The ave...</td>\n",
       "    </tr>\n",
       "    <tr>\n",
       "      <th>3</th>\n",
       "      <td>Acute Bacterial Sinusitis</td>\n",
       "      <td>Azithromycin</td>\n",
       "      <td>On Label</td>\n",
       "      <td>RX</td>\n",
       "      <td>584 Reviews</td>\n",
       "      <td>3.21</td>\n",
       "      <td>4.01</td>\n",
       "      <td>2.57</td>\n",
       "      <td>\\r\\n\\t\\t\\t\\t\\tAzithromycin is an antibiotic (m...</td>\n",
       "    </tr>\n",
       "    <tr>\n",
       "      <th>4</th>\n",
       "      <td>Acute Bacterial Sinusitis</td>\n",
       "      <td>Azithromycin</td>\n",
       "      <td>On Label</td>\n",
       "      <td>RX</td>\n",
       "      <td>584 Reviews</td>\n",
       "      <td>3.21</td>\n",
       "      <td>4.01</td>\n",
       "      <td>2.57</td>\n",
       "      <td>\\r\\n\\t\\t\\t\\t\\tAzithromycin is an antibiotic (m...</td>\n",
       "    </tr>\n",
       "  </tbody>\n",
       "</table>\n",
       "</div>"
      ],
      "text/plain": [
       "                   Condition          Drug Indication Type      Reviews  \\\n",
       "0  Acute Bacterial Sinusitis  Levofloxacin   On Label   RX  994 Reviews   \n",
       "1  Acute Bacterial Sinusitis  Levofloxacin   On Label   RX  994 Reviews   \n",
       "2  Acute Bacterial Sinusitis  Moxifloxacin   On Label   RX  755 Reviews   \n",
       "3  Acute Bacterial Sinusitis  Azithromycin   On Label   RX  584 Reviews   \n",
       "4  Acute Bacterial Sinusitis  Azithromycin   On Label   RX  584 Reviews   \n",
       "\n",
       "   Effective  EaseOfUse  Satisfaction  \\\n",
       "0       2.52       3.01          1.84   \n",
       "1       2.52       3.01          1.84   \n",
       "2       2.78       3.00          2.08   \n",
       "3       3.21       4.01          2.57   \n",
       "4       3.21       4.01          2.57   \n",
       "\n",
       "                                         Information  \n",
       "0  \\r\\n\\t\\t\\t\\t\\tLevofloxacin is used to treat a ...  \n",
       "1  \\r\\n\\t\\t\\t\\t\\tLevofloxacin is used to treat a ...  \n",
       "2  \\r\\n\\t\\t\\t\\t\\t This is a generic drug. The ave...  \n",
       "3  \\r\\n\\t\\t\\t\\t\\tAzithromycin is an antibiotic (m...  \n",
       "4  \\r\\n\\t\\t\\t\\t\\tAzithromycin is an antibiotic (m...  "
      ]
     },
     "execution_count": 10,
     "metadata": {},
     "output_type": "execute_result"
    }
   ],
   "source": [
    "df.head()"
   ]
  },
  {
   "cell_type": "code",
   "execution_count": 11,
   "id": "e21f0307-dac3-4190-a67c-e77e56827c8d",
   "metadata": {
    "tags": []
   },
   "outputs": [
    {
     "data": {
      "text/plain": [
       "(2219, 9)"
      ]
     },
     "execution_count": 11,
     "metadata": {},
     "output_type": "execute_result"
    }
   ],
   "source": [
    "df.shape"
   ]
  },
  {
   "cell_type": "markdown",
   "id": "63f60562-68cc-4502-87f7-b60a3837b64b",
   "metadata": {},
   "source": [
    "Remove \"Reviews\" word from the Reviews Column:"
   ]
  },
  {
   "cell_type": "code",
   "execution_count": 16,
   "id": "c43661f3-2475-4c1e-a0f9-f456033739c9",
   "metadata": {
    "tags": []
   },
   "outputs": [],
   "source": [
    "#Remove \"Reviews\" word from the Reviews Column\n",
    "for i in range(df.shape[0]):\n",
    "    df.loc[i,'Reviews'] = df.loc[i,'Reviews'][0:len(df.loc[i,\"Reviews\"])-8]"
   ]
  },
  {
   "cell_type": "markdown",
   "id": "f47c69ad-dc93-44b6-a804-3d59e9a4ba4d",
   "metadata": {},
   "source": [
    "Import the Natural Language Toolkit:"
   ]
  },
  {
   "cell_type": "code",
   "execution_count": 12,
   "id": "d7f39c0c-f76f-43b0-b43a-d56f9c0c2fc7",
   "metadata": {
    "tags": []
   },
   "outputs": [],
   "source": [
    "from nltk import tokenize"
   ]
  },
  {
   "cell_type": "markdown",
   "id": "141450a7-d509-4609-b24f-be6a10aabe16",
   "metadata": {},
   "source": [
    "We can add more data like price and the form of drug:"
   ]
  },
  {
   "cell_type": "markdown",
   "id": "56637392-213c-4446-bc95-a2ce91db4fd2",
   "metadata": {},
   "source": [
    "#### Price"
   ]
  },
  {
   "cell_type": "markdown",
   "id": "d85293d6-df65-4abf-9108-2bb606f8847f",
   "metadata": {},
   "source": [
    "The Price is obtained with the Tokenizer Package:"
   ]
  },
  {
   "cell_type": "code",
   "execution_count": 13,
   "id": "f80055f8-40b8-4277-8193-482fba0a41ca",
   "metadata": {
    "tags": []
   },
   "outputs": [],
   "source": [
    "#Get Price\n",
    "Price = []\n",
    "for i in range(df.shape[0]):\n",
    "    para = df.iloc[i,8]\n",
    "    sent = tokenize.sent_tokenize(para)\n",
    "    #price_found = False\n",
    "    for x in sent:\n",
    "        if 'average' in x:\n",
    "            words = x.split()\n",
    "    for x in words:\n",
    "        if '$' in x:\n",
    "            z = x.replace(\"$\", \"\")\n",
    "            z = z[0:len(z)-1]\n",
    "            Price.append(z)\n",
    "            #price_found=True\n",
    "    #if not price_found:\n",
    "        #Price.append(\"0\")"
   ]
  },
  {
   "cell_type": "code",
   "execution_count": 14,
   "id": "0abab258-eadf-402c-9b74-da453e5c3b0c",
   "metadata": {
    "tags": []
   },
   "outputs": [
    {
     "data": {
      "text/plain": [
       "2219"
      ]
     },
     "execution_count": 14,
     "metadata": {},
     "output_type": "execute_result"
    }
   ],
   "source": [
    "len(Price)"
   ]
  },
  {
   "cell_type": "markdown",
   "id": "7ccd5620-6fec-48e3-a82b-5c954221309f",
   "metadata": {},
   "source": [
    "#### Form of Drug"
   ]
  },
  {
   "cell_type": "markdown",
   "id": "146d55ba-d234-4c4e-af1f-b39859907485",
   "metadata": {},
   "source": [
    "Also, the form of the drug is obtain with Tokenizer Package:"
   ]
  },
  {
   "cell_type": "code",
   "execution_count": 17,
   "id": "8f00529a-b4ed-438a-8d56-304a4aef1df2",
   "metadata": {
    "tags": []
   },
   "outputs": [],
   "source": [
    "#Get form of drug\n",
    "count = []\n",
    "all_form = ['tablets','Capsule(s)','Capsule','Tablet(s)','Tablet','tablets','Bottle','Vial(s)','Vial','Reconstituted(s)','Reconstituted','Tube','Jar','Can','Box','Syringe']\n",
    "\n",
    "for i in range(df.shape[0]):\n",
    "    para = df.iloc[i,8]\n",
    "    sent = tokenize.sent_tokenize(para)\n",
    "    for x in sent:\n",
    "        if 'average' in x:\n",
    "            words = x.split()\n",
    "    for word in words:\n",
    "        word = word.replace(\",\",\"\")\n",
    "        \n",
    "        if word in all_form:\n",
    "            count.append(i)"
   ]
  },
  {
   "cell_type": "code",
   "execution_count": 18,
   "id": "78bacca5-489f-4c1e-9429-acdd0a5e0e31",
   "metadata": {
    "tags": []
   },
   "outputs": [
    {
     "name": "stdout",
     "output_type": "stream",
     "text": [
      "821\n",
      "1185\n",
      "1186\n",
      "1629\n",
      "1630\n",
      "1648\n",
      "1661\n",
      "1662\n",
      "1663\n",
      "1664\n",
      "1665\n",
      "1924\n",
      "1925\n",
      "2043\n",
      "2057\n",
      "2058\n",
      "2190\n",
      "2197\n",
      "2198\n",
      "2207\n"
     ]
    }
   ],
   "source": [
    "# Find number of index that didn't collect the form of drug and find the new form\n",
    "for i in range(df.shape[0]):\n",
    "    if i not in count:\n",
    "        print(i)"
   ]
  },
  {
   "cell_type": "code",
   "execution_count": 19,
   "id": "08fe24af-9dd1-4ad9-abe3-3fbeb89d6dcf",
   "metadata": {
    "tags": []
   },
   "outputs": [
    {
     "name": "stdout",
     "output_type": "stream",
     "text": [
      "The\n",
      "average\n",
      "cash\n",
      "price\n",
      "for\n",
      "1\n",
      "Inhaler\n",
      "20\n",
      "aerosol\n",
      "powder\n",
      "breath\n",
      "activated\n",
      "each\n",
      "is\n",
      "$81.99.\n"
     ]
    }
   ],
   "source": [
    "#Use index from check and check the sentence that didn't collect the form of drug\n",
    "i = 1924\n",
    "para = df.iloc[i,8]\n",
    "sent = tokenize.sent_tokenize(para)\n",
    "for x in sent:\n",
    "    if 'average' in x:\n",
    "        words = x.split()\n",
    "        for word in words:\n",
    "            word = word.replace(\",\",\"\")\n",
    "            print(word)"
   ]
  },
  {
   "cell_type": "code",
   "execution_count": 20,
   "id": "e83cc217-cb42-4ec6-9dc4-47f024dbc10d",
   "metadata": {
    "tags": []
   },
   "outputs": [
    {
     "data": {
      "text/plain": [
       "Condition                                               Influenza\n",
       "Drug                                                    Zanamivir\n",
       "Indication                                               On Label\n",
       "Type                                                           RX\n",
       "Reviews                                                        19\n",
       "Effective                                                    3.25\n",
       "EaseOfUse                                                    3.69\n",
       "Satisfaction                                                  3.0\n",
       "Information     \\r\\n\\t\\t\\t\\t\\tZanamivir is used to treat sympt...\n",
       "Name: 1924, dtype: object"
      ]
     },
     "execution_count": 20,
     "metadata": {},
     "output_type": "execute_result"
    }
   ],
   "source": [
    "df.iloc[1924]"
   ]
  },
  {
   "cell_type": "code",
   "execution_count": 22,
   "id": "f3c282cf-d3a2-41b5-8d87-c6a5cb60c2f7",
   "metadata": {
    "tags": []
   },
   "outputs": [],
   "source": [
    "#Get all forms\n",
    "all_form = ['Capsule(s)','Capsule','Tablet(s)','Tablet','tablets','Bottle','Vial(s)','Vial','Reconstituted(s)','Reconstituted','Tube','Jar','Can','Box','Syringe','Implant','Package','Pen(s)','Inhaler']\n",
    "\n",
    "Form = []\n",
    "\n",
    "for i in range(df.shape[0]):\n",
    "    para = df.iloc[i,8]\n",
    "    sent = tokenize.sent_tokenize(para)\n",
    "    for x in sent:\n",
    "        if 'average' in x:\n",
    "            words = x.split()\n",
    "    for word in words:\n",
    "        word = word.replace(\",\",\"\")\n",
    "        if word in all_form:\n",
    "            Form.append(word)\n",
    "            break"
   ]
  },
  {
   "cell_type": "code",
   "execution_count": 23,
   "id": "663b412a-d77a-4e59-86a7-ad5fa886cded",
   "metadata": {
    "tags": []
   },
   "outputs": [
    {
     "data": {
      "text/plain": [
       "2219"
      ]
     },
     "execution_count": 23,
     "metadata": {},
     "output_type": "execute_result"
    }
   ],
   "source": [
    "len(Form)"
   ]
  },
  {
   "cell_type": "code",
   "execution_count": 24,
   "id": "81d4661f-9363-4902-90d3-2c61e9000516",
   "metadata": {
    "tags": []
   },
   "outputs": [
    {
     "data": {
      "text/plain": [
       "2219"
      ]
     },
     "execution_count": 24,
     "metadata": {},
     "output_type": "execute_result"
    }
   ],
   "source": [
    "len(df)"
   ]
  },
  {
   "cell_type": "code",
   "execution_count": 25,
   "id": "f12452db-e583-4871-a15c-0182300508d6",
   "metadata": {
    "tags": []
   },
   "outputs": [
    {
     "name": "stdout",
     "output_type": "stream",
     "text": [
      "Counter({'Tablet(s)': 877, 'Bottle': 352, 'Tube': 246, 'tablets': 172, 'Capsule(s)': 163, 'Tablet': 115, 'Box': 89, 'Package': 44, 'Vial': 30, 'Capsule': 30, 'Reconstituted': 28, 'Reconstituted(s)': 17, 'Vial(s)': 14, 'Can': 13, 'Pen(s)': 11, 'Syringe': 10, 'Jar': 5, 'Inhaler': 2, 'Implant': 1})\n"
     ]
    },
    {
     "data": {
      "text/plain": [
       "19"
      ]
     },
     "execution_count": 25,
     "metadata": {},
     "output_type": "execute_result"
    }
   ],
   "source": [
    "#Count the frequency of each form\n",
    "from collections import Counter\n",
    "counts = Counter(Form)\n",
    "print(counts)\n",
    "len(counts)"
   ]
  },
  {
   "cell_type": "code",
   "execution_count": 26,
   "id": "1d9fb9da-ab65-4029-bb01-d9ce1c3bfd38",
   "metadata": {
    "tags": []
   },
   "outputs": [],
   "source": [
    "tablet = [\"Tablet(s)\", \"Tablet\", \"tablets\"]\n",
    "capsule = [\"Capsule(s)\",\"Capsule\"]\n",
    "cream = [\"Tube\", \"Can\", \"Jar\"]\n",
    "liquid_drink = [\"Bottle\"]\n",
    "liquid_inject = [\"Vial\", \"Reconstituted\", \"Reconstituted(s)\", \"Vial(s)\", \"Pen(s)\", \"Syringe\"]\n",
    "other = [\"Box\", \"Package\", \"Implant\", \"Inhaler\"]\n",
    "for i in range(len(Form)):\n",
    "    if Form[i] in tablet:\n",
    "        Form[i] = \"Tablet\"\n",
    "    elif Form[i] in capsule:\n",
    "        Form[i] = \"Capsule\"\n",
    "    elif Form[i] in cream:\n",
    "        Form[i] = \"Cream\"\n",
    "    elif Form[i] in liquid_drink:\n",
    "        Form[i] = \"Liquid (Drink)\"\n",
    "    elif Form[i] in liquid_inject:\n",
    "        Form[i] = \"Liquid (Inject)\"\n",
    "    elif Form[i] in other:\n",
    "        Form[i] = \"Other\"\n",
    "    else:\n",
    "        Form[i] = \"No identified\""
   ]
  },
  {
   "cell_type": "code",
   "execution_count": 27,
   "id": "c5d44287-47fd-4439-b6b6-37f89492b6e9",
   "metadata": {
    "tags": []
   },
   "outputs": [
    {
     "data": {
      "text/plain": [
       "['Tablet',\n",
       " 'Tablet',\n",
       " 'Liquid (Drink)',\n",
       " 'Tablet',\n",
       " 'Tablet',\n",
       " 'Tablet',\n",
       " 'Tablet',\n",
       " 'Tablet',\n",
       " 'Tablet',\n",
       " 'Tablet']"
      ]
     },
     "execution_count": 27,
     "metadata": {},
     "output_type": "execute_result"
    }
   ],
   "source": [
    "Form[0:10]"
   ]
  },
  {
   "cell_type": "markdown",
   "id": "47cf8473-0fa0-4c6d-90c3-4d04aac31309",
   "metadata": {},
   "source": [
    "#### Concatenating"
   ]
  },
  {
   "cell_type": "markdown",
   "id": "ea1d9034-424c-4146-a7d4-0be61199e975",
   "metadata": {},
   "source": [
    "Now that I have the Price and Form of the drugs, let's add those features to the main dataframe:"
   ]
  },
  {
   "cell_type": "code",
   "execution_count": 28,
   "id": "2fe65ec1-6762-4f14-a604-bd1dd63ede52",
   "metadata": {
    "tags": []
   },
   "outputs": [
    {
     "data": {
      "text/html": [
       "<div>\n",
       "<style scoped>\n",
       "    .dataframe tbody tr th:only-of-type {\n",
       "        vertical-align: middle;\n",
       "    }\n",
       "\n",
       "    .dataframe tbody tr th {\n",
       "        vertical-align: top;\n",
       "    }\n",
       "\n",
       "    .dataframe thead th {\n",
       "        text-align: right;\n",
       "    }\n",
       "</style>\n",
       "<table border=\"1\" class=\"dataframe\">\n",
       "  <thead>\n",
       "    <tr style=\"text-align: right;\">\n",
       "      <th></th>\n",
       "      <th>Condition</th>\n",
       "      <th>Drug</th>\n",
       "      <th>Indication</th>\n",
       "      <th>Type</th>\n",
       "      <th>Reviews</th>\n",
       "      <th>Effective</th>\n",
       "      <th>EaseOfUse</th>\n",
       "      <th>Satisfaction</th>\n",
       "    </tr>\n",
       "  </thead>\n",
       "  <tbody>\n",
       "    <tr>\n",
       "      <th>0</th>\n",
       "      <td>Acute Bacterial Sinusitis</td>\n",
       "      <td>Levofloxacin</td>\n",
       "      <td>On Label</td>\n",
       "      <td>RX</td>\n",
       "      <td>994</td>\n",
       "      <td>2.52</td>\n",
       "      <td>3.01</td>\n",
       "      <td>1.84</td>\n",
       "    </tr>\n",
       "    <tr>\n",
       "      <th>1</th>\n",
       "      <td>Acute Bacterial Sinusitis</td>\n",
       "      <td>Levofloxacin</td>\n",
       "      <td>On Label</td>\n",
       "      <td>RX</td>\n",
       "      <td>994</td>\n",
       "      <td>2.52</td>\n",
       "      <td>3.01</td>\n",
       "      <td>1.84</td>\n",
       "    </tr>\n",
       "    <tr>\n",
       "      <th>2</th>\n",
       "      <td>Acute Bacterial Sinusitis</td>\n",
       "      <td>Moxifloxacin</td>\n",
       "      <td>On Label</td>\n",
       "      <td>RX</td>\n",
       "      <td>755</td>\n",
       "      <td>2.78</td>\n",
       "      <td>3.00</td>\n",
       "      <td>2.08</td>\n",
       "    </tr>\n",
       "    <tr>\n",
       "      <th>3</th>\n",
       "      <td>Acute Bacterial Sinusitis</td>\n",
       "      <td>Azithromycin</td>\n",
       "      <td>On Label</td>\n",
       "      <td>RX</td>\n",
       "      <td>584</td>\n",
       "      <td>3.21</td>\n",
       "      <td>4.01</td>\n",
       "      <td>2.57</td>\n",
       "    </tr>\n",
       "    <tr>\n",
       "      <th>4</th>\n",
       "      <td>Acute Bacterial Sinusitis</td>\n",
       "      <td>Azithromycin</td>\n",
       "      <td>On Label</td>\n",
       "      <td>RX</td>\n",
       "      <td>584</td>\n",
       "      <td>3.21</td>\n",
       "      <td>4.01</td>\n",
       "      <td>2.57</td>\n",
       "    </tr>\n",
       "    <tr>\n",
       "      <th>5</th>\n",
       "      <td>Acute Bacterial Sinusitis</td>\n",
       "      <td>Azithromycin</td>\n",
       "      <td>On Label</td>\n",
       "      <td>RX</td>\n",
       "      <td>584</td>\n",
       "      <td>3.21</td>\n",
       "      <td>4.01</td>\n",
       "      <td>2.57</td>\n",
       "    </tr>\n",
       "    <tr>\n",
       "      <th>6</th>\n",
       "      <td>Acute Bacterial Sinusitis</td>\n",
       "      <td>Azithromycin</td>\n",
       "      <td>On Label</td>\n",
       "      <td>RX</td>\n",
       "      <td>584</td>\n",
       "      <td>3.21</td>\n",
       "      <td>4.01</td>\n",
       "      <td>2.57</td>\n",
       "    </tr>\n",
       "    <tr>\n",
       "      <th>7</th>\n",
       "      <td>Acute Bacterial Sinusitis</td>\n",
       "      <td>Azithromycin</td>\n",
       "      <td>On Label</td>\n",
       "      <td>RX</td>\n",
       "      <td>584</td>\n",
       "      <td>3.21</td>\n",
       "      <td>4.01</td>\n",
       "      <td>2.57</td>\n",
       "    </tr>\n",
       "    <tr>\n",
       "      <th>8</th>\n",
       "      <td>Acute Bacterial Sinusitis</td>\n",
       "      <td>Amoxicillin-Pot Clavulanate</td>\n",
       "      <td>On Label</td>\n",
       "      <td>RX</td>\n",
       "      <td>437</td>\n",
       "      <td>3.26</td>\n",
       "      <td>3.23</td>\n",
       "      <td>2.42</td>\n",
       "    </tr>\n",
       "    <tr>\n",
       "      <th>9</th>\n",
       "      <td>Acute Bacterial Sinusitis</td>\n",
       "      <td>Amoxicillin-Pot Clavulanate</td>\n",
       "      <td>On Label</td>\n",
       "      <td>RX</td>\n",
       "      <td>437</td>\n",
       "      <td>3.26</td>\n",
       "      <td>3.23</td>\n",
       "      <td>2.42</td>\n",
       "    </tr>\n",
       "  </tbody>\n",
       "</table>\n",
       "</div>"
      ],
      "text/plain": [
       "                   Condition                         Drug Indication Type  \\\n",
       "0  Acute Bacterial Sinusitis                 Levofloxacin   On Label   RX   \n",
       "1  Acute Bacterial Sinusitis                 Levofloxacin   On Label   RX   \n",
       "2  Acute Bacterial Sinusitis                 Moxifloxacin   On Label   RX   \n",
       "3  Acute Bacterial Sinusitis                 Azithromycin   On Label   RX   \n",
       "4  Acute Bacterial Sinusitis                 Azithromycin   On Label   RX   \n",
       "5  Acute Bacterial Sinusitis                 Azithromycin   On Label   RX   \n",
       "6  Acute Bacterial Sinusitis                 Azithromycin   On Label   RX   \n",
       "7  Acute Bacterial Sinusitis                 Azithromycin   On Label   RX   \n",
       "8  Acute Bacterial Sinusitis  Amoxicillin-Pot Clavulanate   On Label   RX   \n",
       "9  Acute Bacterial Sinusitis  Amoxicillin-Pot Clavulanate   On Label   RX   \n",
       "\n",
       "  Reviews  Effective  EaseOfUse  Satisfaction  \n",
       "0     994       2.52       3.01          1.84  \n",
       "1     994       2.52       3.01          1.84  \n",
       "2     755       2.78       3.00          2.08  \n",
       "3     584       3.21       4.01          2.57  \n",
       "4     584       3.21       4.01          2.57  \n",
       "5     584       3.21       4.01          2.57  \n",
       "6     584       3.21       4.01          2.57  \n",
       "7     584       3.21       4.01          2.57  \n",
       "8     437       3.26       3.23          2.42  \n",
       "9     437       3.26       3.23          2.42  "
      ]
     },
     "execution_count": 28,
     "metadata": {},
     "output_type": "execute_result"
    }
   ],
   "source": [
    "#Drop the Information Column\n",
    "df = df.drop([\"Information\"], axis=1)\n",
    "df.head(10)"
   ]
  },
  {
   "cell_type": "code",
   "execution_count": 29,
   "id": "e7ba6335-c471-4b98-9d4d-c6a8fa7316b6",
   "metadata": {
    "tags": []
   },
   "outputs": [
    {
     "data": {
      "text/plain": [
       "(2219, 2)"
      ]
     },
     "execution_count": 29,
     "metadata": {},
     "output_type": "execute_result"
    }
   ],
   "source": [
    "join = {\"Form\":Form, \"Price\":Price}\n",
    "df2 = pd.DataFrame(join)\n",
    "df2.shape"
   ]
  },
  {
   "cell_type": "code",
   "execution_count": 30,
   "id": "e6c61110-c4ee-412d-85ec-8abe2d2098f8",
   "metadata": {
    "tags": []
   },
   "outputs": [
    {
     "data": {
      "text/html": [
       "<div>\n",
       "<style scoped>\n",
       "    .dataframe tbody tr th:only-of-type {\n",
       "        vertical-align: middle;\n",
       "    }\n",
       "\n",
       "    .dataframe tbody tr th {\n",
       "        vertical-align: top;\n",
       "    }\n",
       "\n",
       "    .dataframe thead th {\n",
       "        text-align: right;\n",
       "    }\n",
       "</style>\n",
       "<table border=\"1\" class=\"dataframe\">\n",
       "  <thead>\n",
       "    <tr style=\"text-align: right;\">\n",
       "      <th></th>\n",
       "      <th>Condition</th>\n",
       "      <th>Drug</th>\n",
       "      <th>Indication</th>\n",
       "      <th>Type</th>\n",
       "      <th>Reviews</th>\n",
       "      <th>Effective</th>\n",
       "      <th>EaseOfUse</th>\n",
       "      <th>Satisfaction</th>\n",
       "      <th>Form</th>\n",
       "      <th>Price</th>\n",
       "    </tr>\n",
       "  </thead>\n",
       "  <tbody>\n",
       "    <tr>\n",
       "      <th>0</th>\n",
       "      <td>Acute Bacterial Sinusitis</td>\n",
       "      <td>Levofloxacin</td>\n",
       "      <td>On Label</td>\n",
       "      <td>RX</td>\n",
       "      <td>994</td>\n",
       "      <td>2.52</td>\n",
       "      <td>3.01</td>\n",
       "      <td>1.84</td>\n",
       "      <td>Tablet</td>\n",
       "      <td>172.99</td>\n",
       "    </tr>\n",
       "    <tr>\n",
       "      <th>1</th>\n",
       "      <td>Acute Bacterial Sinusitis</td>\n",
       "      <td>Levofloxacin</td>\n",
       "      <td>On Label</td>\n",
       "      <td>RX</td>\n",
       "      <td>994</td>\n",
       "      <td>2.52</td>\n",
       "      <td>3.01</td>\n",
       "      <td>1.84</td>\n",
       "      <td>Tablet</td>\n",
       "      <td>172.99</td>\n",
       "    </tr>\n",
       "    <tr>\n",
       "      <th>2</th>\n",
       "      <td>Acute Bacterial Sinusitis</td>\n",
       "      <td>Moxifloxacin</td>\n",
       "      <td>On Label</td>\n",
       "      <td>RX</td>\n",
       "      <td>755</td>\n",
       "      <td>2.78</td>\n",
       "      <td>3.00</td>\n",
       "      <td>2.08</td>\n",
       "      <td>Liquid (Drink)</td>\n",
       "      <td>74.99</td>\n",
       "    </tr>\n",
       "    <tr>\n",
       "      <th>3</th>\n",
       "      <td>Acute Bacterial Sinusitis</td>\n",
       "      <td>Azithromycin</td>\n",
       "      <td>On Label</td>\n",
       "      <td>RX</td>\n",
       "      <td>584</td>\n",
       "      <td>3.21</td>\n",
       "      <td>4.01</td>\n",
       "      <td>2.57</td>\n",
       "      <td>Tablet</td>\n",
       "      <td>32.10</td>\n",
       "    </tr>\n",
       "    <tr>\n",
       "      <th>4</th>\n",
       "      <td>Acute Bacterial Sinusitis</td>\n",
       "      <td>Azithromycin</td>\n",
       "      <td>On Label</td>\n",
       "      <td>RX</td>\n",
       "      <td>584</td>\n",
       "      <td>3.21</td>\n",
       "      <td>4.01</td>\n",
       "      <td>2.57</td>\n",
       "      <td>Tablet</td>\n",
       "      <td>32.10</td>\n",
       "    </tr>\n",
       "    <tr>\n",
       "      <th>5</th>\n",
       "      <td>Acute Bacterial Sinusitis</td>\n",
       "      <td>Azithromycin</td>\n",
       "      <td>On Label</td>\n",
       "      <td>RX</td>\n",
       "      <td>584</td>\n",
       "      <td>3.21</td>\n",
       "      <td>4.01</td>\n",
       "      <td>2.57</td>\n",
       "      <td>Tablet</td>\n",
       "      <td>32.10</td>\n",
       "    </tr>\n",
       "    <tr>\n",
       "      <th>6</th>\n",
       "      <td>Acute Bacterial Sinusitis</td>\n",
       "      <td>Azithromycin</td>\n",
       "      <td>On Label</td>\n",
       "      <td>RX</td>\n",
       "      <td>584</td>\n",
       "      <td>3.21</td>\n",
       "      <td>4.01</td>\n",
       "      <td>2.57</td>\n",
       "      <td>Tablet</td>\n",
       "      <td>32.10</td>\n",
       "    </tr>\n",
       "    <tr>\n",
       "      <th>7</th>\n",
       "      <td>Acute Bacterial Sinusitis</td>\n",
       "      <td>Azithromycin</td>\n",
       "      <td>On Label</td>\n",
       "      <td>RX</td>\n",
       "      <td>584</td>\n",
       "      <td>3.21</td>\n",
       "      <td>4.01</td>\n",
       "      <td>2.57</td>\n",
       "      <td>Tablet</td>\n",
       "      <td>32.10</td>\n",
       "    </tr>\n",
       "    <tr>\n",
       "      <th>8</th>\n",
       "      <td>Acute Bacterial Sinusitis</td>\n",
       "      <td>Amoxicillin-Pot Clavulanate</td>\n",
       "      <td>On Label</td>\n",
       "      <td>RX</td>\n",
       "      <td>437</td>\n",
       "      <td>3.26</td>\n",
       "      <td>3.23</td>\n",
       "      <td>2.42</td>\n",
       "      <td>Tablet</td>\n",
       "      <td>32.10</td>\n",
       "    </tr>\n",
       "    <tr>\n",
       "      <th>9</th>\n",
       "      <td>Acute Bacterial Sinusitis</td>\n",
       "      <td>Amoxicillin-Pot Clavulanate</td>\n",
       "      <td>On Label</td>\n",
       "      <td>RX</td>\n",
       "      <td>437</td>\n",
       "      <td>3.26</td>\n",
       "      <td>3.23</td>\n",
       "      <td>2.42</td>\n",
       "      <td>Tablet</td>\n",
       "      <td>32.10</td>\n",
       "    </tr>\n",
       "  </tbody>\n",
       "</table>\n",
       "</div>"
      ],
      "text/plain": [
       "                   Condition                         Drug Indication Type  \\\n",
       "0  Acute Bacterial Sinusitis                 Levofloxacin   On Label   RX   \n",
       "1  Acute Bacterial Sinusitis                 Levofloxacin   On Label   RX   \n",
       "2  Acute Bacterial Sinusitis                 Moxifloxacin   On Label   RX   \n",
       "3  Acute Bacterial Sinusitis                 Azithromycin   On Label   RX   \n",
       "4  Acute Bacterial Sinusitis                 Azithromycin   On Label   RX   \n",
       "5  Acute Bacterial Sinusitis                 Azithromycin   On Label   RX   \n",
       "6  Acute Bacterial Sinusitis                 Azithromycin   On Label   RX   \n",
       "7  Acute Bacterial Sinusitis                 Azithromycin   On Label   RX   \n",
       "8  Acute Bacterial Sinusitis  Amoxicillin-Pot Clavulanate   On Label   RX   \n",
       "9  Acute Bacterial Sinusitis  Amoxicillin-Pot Clavulanate   On Label   RX   \n",
       "\n",
       "  Reviews  Effective  EaseOfUse  Satisfaction            Form   Price  \n",
       "0     994       2.52       3.01          1.84          Tablet  172.99  \n",
       "1     994       2.52       3.01          1.84          Tablet  172.99  \n",
       "2     755       2.78       3.00          2.08  Liquid (Drink)   74.99  \n",
       "3     584       3.21       4.01          2.57          Tablet   32.10  \n",
       "4     584       3.21       4.01          2.57          Tablet   32.10  \n",
       "5     584       3.21       4.01          2.57          Tablet   32.10  \n",
       "6     584       3.21       4.01          2.57          Tablet   32.10  \n",
       "7     584       3.21       4.01          2.57          Tablet   32.10  \n",
       "8     437       3.26       3.23          2.42          Tablet   32.10  \n",
       "9     437       3.26       3.23          2.42          Tablet   32.10  "
      ]
     },
     "execution_count": 30,
     "metadata": {},
     "output_type": "execute_result"
    }
   ],
   "source": [
    "df = pd.concat([df,df2],axis=1)\n",
    "df.head(10)"
   ]
  },
  {
   "cell_type": "markdown",
   "id": "23495268-db0e-494a-a1c8-ee391959c198",
   "metadata": {},
   "source": [
    "Chenking the data types of the table:"
   ]
  },
  {
   "cell_type": "code",
   "execution_count": 31,
   "id": "fdbe7113-1a1c-4b94-9ce2-39c45a8cd2b5",
   "metadata": {
    "tags": []
   },
   "outputs": [
    {
     "data": {
      "text/plain": [
       "Condition        object\n",
       "Drug             object\n",
       "Indication       object\n",
       "Type             object\n",
       "Reviews          object\n",
       "Effective       float64\n",
       "EaseOfUse       float64\n",
       "Satisfaction    float64\n",
       "Form             object\n",
       "Price            object\n",
       "dtype: object"
      ]
     },
     "execution_count": 31,
     "metadata": {},
     "output_type": "execute_result"
    }
   ],
   "source": [
    "df.dtypes"
   ]
  },
  {
   "cell_type": "markdown",
   "id": "6e706de8-8133-4064-9a3d-f024c68bd252",
   "metadata": {},
   "source": [
    "Change data types into the correct format:"
   ]
  },
  {
   "cell_type": "code",
   "execution_count": 32,
   "id": "4be82504-756e-4f85-a1ca-5c4c3459976b",
   "metadata": {
    "tags": []
   },
   "outputs": [],
   "source": [
    "#Change String to Float\n",
    "df[\"Reviews\"] = df[\"Reviews\"].astype(float)\n",
    "df[\"Price\"] = df[\"Price\"].astype(float)"
   ]
  },
  {
   "cell_type": "markdown",
   "id": "57627c45-1637-4e88-9ef5-e3909b4ae02f",
   "metadata": {},
   "source": [
    "Delete duplicate data with the mean:"
   ]
  },
  {
   "cell_type": "code",
   "execution_count": 36,
   "id": "9a9e9c6c-1385-4db7-8ae4-fca8628ba1da",
   "metadata": {
    "tags": []
   },
   "outputs": [
    {
     "data": {
      "text/html": [
       "<div>\n",
       "<style scoped>\n",
       "    .dataframe tbody tr th:only-of-type {\n",
       "        vertical-align: middle;\n",
       "    }\n",
       "\n",
       "    .dataframe tbody tr th {\n",
       "        vertical-align: top;\n",
       "    }\n",
       "\n",
       "    .dataframe thead th {\n",
       "        text-align: right;\n",
       "    }\n",
       "</style>\n",
       "<table border=\"1\" class=\"dataframe\">\n",
       "  <thead>\n",
       "    <tr style=\"text-align: right;\">\n",
       "      <th></th>\n",
       "      <th>Condition</th>\n",
       "      <th>Drug</th>\n",
       "      <th>Indication</th>\n",
       "      <th>Type</th>\n",
       "      <th>Form</th>\n",
       "      <th>EaseOfUse</th>\n",
       "      <th>Effective</th>\n",
       "      <th>Price</th>\n",
       "      <th>Reviews</th>\n",
       "      <th>Satisfaction</th>\n",
       "    </tr>\n",
       "  </thead>\n",
       "  <tbody>\n",
       "    <tr>\n",
       "      <th>0</th>\n",
       "      <td>Acute Bacterial Sinusitis</td>\n",
       "      <td>Amoxicillin</td>\n",
       "      <td>On Label</td>\n",
       "      <td>RX</td>\n",
       "      <td>Capsule</td>\n",
       "      <td>3.852353</td>\n",
       "      <td>3.655882</td>\n",
       "      <td>12.590000</td>\n",
       "      <td>86.294118</td>\n",
       "      <td>3.197647</td>\n",
       "    </tr>\n",
       "    <tr>\n",
       "      <th>1</th>\n",
       "      <td>Acute Bacterial Sinusitis</td>\n",
       "      <td>Amoxicillin-Pot Clavulanate</td>\n",
       "      <td>Off Label</td>\n",
       "      <td>RX</td>\n",
       "      <td>Liquid (Drink)</td>\n",
       "      <td>3.470000</td>\n",
       "      <td>3.290000</td>\n",
       "      <td>287.370000</td>\n",
       "      <td>43.000000</td>\n",
       "      <td>2.590000</td>\n",
       "    </tr>\n",
       "    <tr>\n",
       "      <th>2</th>\n",
       "      <td>Acute Bacterial Sinusitis</td>\n",
       "      <td>Amoxicillin-Pot Clavulanate</td>\n",
       "      <td>On Label</td>\n",
       "      <td>RX</td>\n",
       "      <td>Tablet</td>\n",
       "      <td>3.121429</td>\n",
       "      <td>2.962857</td>\n",
       "      <td>70.608571</td>\n",
       "      <td>267.285714</td>\n",
       "      <td>2.248571</td>\n",
       "    </tr>\n",
       "    <tr>\n",
       "      <th>3</th>\n",
       "      <td>Acute Bacterial Sinusitis</td>\n",
       "      <td>Ampicillin</td>\n",
       "      <td>On Label</td>\n",
       "      <td>RX</td>\n",
       "      <td>Capsule</td>\n",
       "      <td>2.000000</td>\n",
       "      <td>3.000000</td>\n",
       "      <td>12.590000</td>\n",
       "      <td>1.000000</td>\n",
       "      <td>1.000000</td>\n",
       "    </tr>\n",
       "    <tr>\n",
       "      <th>4</th>\n",
       "      <td>Acute Bacterial Sinusitis</td>\n",
       "      <td>Ampicillin</td>\n",
       "      <td>On Label</td>\n",
       "      <td>RX</td>\n",
       "      <td>Tablet</td>\n",
       "      <td>3.250000</td>\n",
       "      <td>3.000000</td>\n",
       "      <td>125.240000</td>\n",
       "      <td>15.000000</td>\n",
       "      <td>3.000000</td>\n",
       "    </tr>\n",
       "    <tr>\n",
       "      <th>...</th>\n",
       "      <td>...</td>\n",
       "      <td>...</td>\n",
       "      <td>...</td>\n",
       "      <td>...</td>\n",
       "      <td>...</td>\n",
       "      <td>...</td>\n",
       "      <td>...</td>\n",
       "      <td>...</td>\n",
       "      <td>...</td>\n",
       "      <td>...</td>\n",
       "    </tr>\n",
       "    <tr>\n",
       "      <th>680</th>\n",
       "      <td>vulvovaginal candidiasis</td>\n",
       "      <td>Miconazole Nitrate</td>\n",
       "      <td>On Label</td>\n",
       "      <td>RX/OTC</td>\n",
       "      <td>Cream</td>\n",
       "      <td>3.465000</td>\n",
       "      <td>2.770000</td>\n",
       "      <td>13.990000</td>\n",
       "      <td>19.500000</td>\n",
       "      <td>2.345000</td>\n",
       "    </tr>\n",
       "    <tr>\n",
       "      <th>681</th>\n",
       "      <td>vulvovaginal candidiasis</td>\n",
       "      <td>Miconazole-Skin Clnsr17</td>\n",
       "      <td>On Label</td>\n",
       "      <td>OTC</td>\n",
       "      <td>Cream</td>\n",
       "      <td>4.750000</td>\n",
       "      <td>3.000000</td>\n",
       "      <td>13.990000</td>\n",
       "      <td>4.000000</td>\n",
       "      <td>3.000000</td>\n",
       "    </tr>\n",
       "    <tr>\n",
       "      <th>682</th>\n",
       "      <td>vulvovaginal candidiasis</td>\n",
       "      <td>Miconazole-Skin Clnsr17</td>\n",
       "      <td>On Label</td>\n",
       "      <td>OTC</td>\n",
       "      <td>Other</td>\n",
       "      <td>4.000000</td>\n",
       "      <td>1.000000</td>\n",
       "      <td>125.990000</td>\n",
       "      <td>1.000000</td>\n",
       "      <td>1.000000</td>\n",
       "    </tr>\n",
       "    <tr>\n",
       "      <th>683</th>\n",
       "      <td>vulvovaginal candidiasis</td>\n",
       "      <td>Terconazole</td>\n",
       "      <td>On Label</td>\n",
       "      <td>RX</td>\n",
       "      <td>Cream</td>\n",
       "      <td>3.525000</td>\n",
       "      <td>3.047500</td>\n",
       "      <td>68.990000</td>\n",
       "      <td>20.000000</td>\n",
       "      <td>2.717500</td>\n",
       "    </tr>\n",
       "    <tr>\n",
       "      <th>684</th>\n",
       "      <td>vulvovaginal candidiasis</td>\n",
       "      <td>Tioconazole</td>\n",
       "      <td>On Label</td>\n",
       "      <td>OTC</td>\n",
       "      <td>Other</td>\n",
       "      <td>3.852500</td>\n",
       "      <td>2.022500</td>\n",
       "      <td>22.990000</td>\n",
       "      <td>145.000000</td>\n",
       "      <td>1.827500</td>\n",
       "    </tr>\n",
       "  </tbody>\n",
       "</table>\n",
       "<p>685 rows × 10 columns</p>\n",
       "</div>"
      ],
      "text/plain": [
       "                     Condition                         Drug Indication  \\\n",
       "0    Acute Bacterial Sinusitis                  Amoxicillin   On Label   \n",
       "1    Acute Bacterial Sinusitis  Amoxicillin-Pot Clavulanate  Off Label   \n",
       "2    Acute Bacterial Sinusitis  Amoxicillin-Pot Clavulanate   On Label   \n",
       "3    Acute Bacterial Sinusitis                   Ampicillin   On Label   \n",
       "4    Acute Bacterial Sinusitis                   Ampicillin   On Label   \n",
       "..                         ...                          ...        ...   \n",
       "680   vulvovaginal candidiasis           Miconazole Nitrate   On Label   \n",
       "681   vulvovaginal candidiasis      Miconazole-Skin Clnsr17   On Label   \n",
       "682   vulvovaginal candidiasis      Miconazole-Skin Clnsr17   On Label   \n",
       "683   vulvovaginal candidiasis                  Terconazole   On Label   \n",
       "684   vulvovaginal candidiasis                  Tioconazole   On Label   \n",
       "\n",
       "       Type            Form  EaseOfUse  Effective       Price     Reviews  \\\n",
       "0        RX         Capsule   3.852353   3.655882   12.590000   86.294118   \n",
       "1        RX  Liquid (Drink)   3.470000   3.290000  287.370000   43.000000   \n",
       "2        RX          Tablet   3.121429   2.962857   70.608571  267.285714   \n",
       "3        RX         Capsule   2.000000   3.000000   12.590000    1.000000   \n",
       "4        RX          Tablet   3.250000   3.000000  125.240000   15.000000   \n",
       "..      ...             ...        ...        ...         ...         ...   \n",
       "680  RX/OTC           Cream   3.465000   2.770000   13.990000   19.500000   \n",
       "681     OTC           Cream   4.750000   3.000000   13.990000    4.000000   \n",
       "682     OTC           Other   4.000000   1.000000  125.990000    1.000000   \n",
       "683      RX           Cream   3.525000   3.047500   68.990000   20.000000   \n",
       "684     OTC           Other   3.852500   2.022500   22.990000  145.000000   \n",
       "\n",
       "     Satisfaction  \n",
       "0        3.197647  \n",
       "1        2.590000  \n",
       "2        2.248571  \n",
       "3        1.000000  \n",
       "4        3.000000  \n",
       "..            ...  \n",
       "680      2.345000  \n",
       "681      3.000000  \n",
       "682      1.000000  \n",
       "683      2.717500  \n",
       "684      1.827500  \n",
       "\n",
       "[685 rows x 10 columns]"
      ]
     },
     "execution_count": 36,
     "metadata": {},
     "output_type": "execute_result"
    }
   ],
   "source": [
    "#Delete Duplicate data\n",
    "dataf = pd.pivot_table(df,index=['Condition','Drug','Indication','Type','Form'],aggfunc='mean')\n",
    "data2 = pd.DataFrame(columns=['Condition','Drug','Indication','Type','Form','EaseOfUse','Effective','Price','Reviews','Satisfaction'])\n",
    "                     \n",
    "for i in range(len(dataf.index)):\n",
    "    temp = {'Condition':dataf.index[i][0],\n",
    "            'Drug':dataf.index[i][1],\n",
    "            'Indication':dataf.index[i][2],\n",
    "            'Type':dataf.index[i][3],\n",
    "            'Form':dataf.index[i][4],\n",
    "            'EaseOfUse':dataf.iloc[i,0],\n",
    "            'Effective':dataf.iloc[i,1],\n",
    "            'Price':dataf.iloc[i,2],\n",
    "            'Reviews':dataf.iloc[i,3],\n",
    "            'Satisfaction':dataf.iloc[i,4]}\n",
    "    \n",
    "    data2.loc[i] = temp\n",
    "\n",
    "data2\n",
    "                     \n"
   ]
  },
  {
   "cell_type": "markdown",
   "id": "b5505b20-5f04-46a8-9a6c-288c1f2b3ae3",
   "metadata": {},
   "source": [
    "Export the dataframe to a CSV file:"
   ]
  },
  {
   "cell_type": "code",
   "execution_count": 37,
   "id": "1d6157b3-014b-4e4b-9a52-6410cf1633a0",
   "metadata": {
    "tags": []
   },
   "outputs": [],
   "source": [
    "data2.to_csv('Drug_clean.csv', index = False)"
   ]
  }
 ],
 "metadata": {
  "kernelspec": {
   "display_name": "Python 3 (ipykernel)",
   "language": "python",
   "name": "python3"
  },
  "language_info": {
   "codemirror_mode": {
    "name": "ipython",
    "version": 3
   },
   "file_extension": ".py",
   "mimetype": "text/x-python",
   "name": "python",
   "nbconvert_exporter": "python",
   "pygments_lexer": "ipython3",
   "version": "3.11.5"
  }
 },
 "nbformat": 4,
 "nbformat_minor": 5
}
