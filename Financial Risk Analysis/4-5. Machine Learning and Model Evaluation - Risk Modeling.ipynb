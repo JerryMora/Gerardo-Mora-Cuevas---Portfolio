{
 "cells": [
  {
   "cell_type": "markdown",
   "id": "662b8dab-612a-45c0-acdb-242a969c50d3",
   "metadata": {
    "tags": []
   },
   "source": [
    "# Project - Financial Risk analysis\n",
    "#### By Gerardo Mora Cuevas\n",
    "\n",
    "### Machine Learning - Risk Modeling\n",
    "\n",
    "### Dataset: Cymbal Investments"
   ]
  },
  {
   "cell_type": "markdown",
   "id": "c14cc06c-404e-4b64-a592-a538994f9a79",
   "metadata": {},
   "source": [
    "First, let's use pandas to read the csv file and save the data as a Dataframe:"
   ]
  },
  {
   "cell_type": "code",
   "execution_count": 1,
   "id": "e466a5aa-8aca-47ad-a7dd-931aeb69a83e",
   "metadata": {
    "tags": []
   },
   "outputs": [],
   "source": [
    "import pandas as pd\n",
    "df = pd.read_csv(\"cymbal_investments_cleaned.csv\")"
   ]
  },
  {
   "cell_type": "markdown",
   "id": "184c6ef6-2534-4d9d-89e1-c9c98f6ac6d7",
   "metadata": {},
   "source": [
    "Let's take a look at the first rows of the dataframe:"
   ]
  },
  {
   "cell_type": "code",
   "execution_count": 2,
   "id": "4e407239-e78f-405c-ad52-1d542ed44e08",
   "metadata": {
    "tags": []
   },
   "outputs": [
    {
     "data": {
      "text/html": [
       "<div>\n",
       "<style scoped>\n",
       "    .dataframe tbody tr th:only-of-type {\n",
       "        vertical-align: middle;\n",
       "    }\n",
       "\n",
       "    .dataframe tbody tr th {\n",
       "        vertical-align: top;\n",
       "    }\n",
       "\n",
       "    .dataframe thead th {\n",
       "        text-align: right;\n",
       "    }\n",
       "</style>\n",
       "<table border=\"1\" class=\"dataframe\">\n",
       "  <thead>\n",
       "    <tr style=\"text-align: right;\">\n",
       "      <th></th>\n",
       "      <th>TargetCompID</th>\n",
       "      <th>SenderCompID</th>\n",
       "      <th>Symbol</th>\n",
       "      <th>Quantity</th>\n",
       "      <th>StrikePrice</th>\n",
       "      <th>LastPx</th>\n",
       "      <th>TradeReportID</th>\n",
       "      <th>TradeDate</th>\n",
       "      <th>CFICode</th>\n",
       "      <th>Side</th>\n",
       "      <th>OrderID</th>\n",
       "      <th>PartyID</th>\n",
       "      <th>PartyIDSource</th>\n",
       "      <th>PartyRole</th>\n",
       "      <th>Sending_Date</th>\n",
       "      <th>Sending_Time</th>\n",
       "      <th>Transact_Date</th>\n",
       "      <th>Transact_Time</th>\n",
       "      <th>Maturity_Date</th>\n",
       "      <th>Maturity_Time</th>\n",
       "    </tr>\n",
       "  </thead>\n",
       "  <tbody>\n",
       "    <tr>\n",
       "      <th>0</th>\n",
       "      <td>MOMOES-COMPID</td>\n",
       "      <td>MDOC</td>\n",
       "      <td>ESM0</td>\n",
       "      <td>1</td>\n",
       "      <td>2954.12</td>\n",
       "      <td>2953.12</td>\n",
       "      <td>50bfaefb-53f3-4454-92af-f2fc11ab9176-0</td>\n",
       "      <td>18/05/2020</td>\n",
       "      <td>MMMXXX</td>\n",
       "      <td>LONG</td>\n",
       "      <td>50bfaefb-53f3-4454-92af-f2fc11ab9176</td>\n",
       "      <td>MOMOES</td>\n",
       "      <td>PROP CODE</td>\n",
       "      <td>INITIATING TRADER</td>\n",
       "      <td>18/05/2020</td>\n",
       "      <td>17:27:57</td>\n",
       "      <td>18/05/2020</td>\n",
       "      <td>17:27:58</td>\n",
       "      <td>18/05/2020</td>\n",
       "      <td>17:28:58</td>\n",
       "    </tr>\n",
       "    <tr>\n",
       "      <th>1</th>\n",
       "      <td>MOMOES-COMPID</td>\n",
       "      <td>MDOC</td>\n",
       "      <td>ESM0</td>\n",
       "      <td>1</td>\n",
       "      <td>2953.62</td>\n",
       "      <td>2953.88</td>\n",
       "      <td>9fbe8d52-fcf0-4f2d-a038-ac2aff7673d9-0</td>\n",
       "      <td>18/05/2020</td>\n",
       "      <td>MMMXXX</td>\n",
       "      <td>LONG</td>\n",
       "      <td>9fbe8d52-fcf0-4f2d-a038-ac2aff7673d9</td>\n",
       "      <td>MOMOES</td>\n",
       "      <td>PROP CODE</td>\n",
       "      <td>INITIATING TRADER</td>\n",
       "      <td>18/05/2020</td>\n",
       "      <td>17:29:14</td>\n",
       "      <td>18/05/2020</td>\n",
       "      <td>17:29:14</td>\n",
       "      <td>18/05/2020</td>\n",
       "      <td>17:30:14</td>\n",
       "    </tr>\n",
       "    <tr>\n",
       "      <th>2</th>\n",
       "      <td>MOMOES-COMPID</td>\n",
       "      <td>MDOC</td>\n",
       "      <td>ESM0</td>\n",
       "      <td>1</td>\n",
       "      <td>2953.88</td>\n",
       "      <td>2953.62</td>\n",
       "      <td>3c55841c-08e3-4e48-b46b-2496383778f8-0</td>\n",
       "      <td>18/05/2020</td>\n",
       "      <td>MMMXXX</td>\n",
       "      <td>LONG</td>\n",
       "      <td>3c55841c-08e3-4e48-b46b-2496383778f8</td>\n",
       "      <td>MOMOES</td>\n",
       "      <td>PROP CODE</td>\n",
       "      <td>INITIATING TRADER</td>\n",
       "      <td>18/05/2020</td>\n",
       "      <td>18:28:40</td>\n",
       "      <td>18/05/2020</td>\n",
       "      <td>18:28:41</td>\n",
       "      <td>18/05/2020</td>\n",
       "      <td>18:29:41</td>\n",
       "    </tr>\n",
       "    <tr>\n",
       "      <th>3</th>\n",
       "      <td>MOMOES-COMPID</td>\n",
       "      <td>MDOC</td>\n",
       "      <td>ESM0</td>\n",
       "      <td>1</td>\n",
       "      <td>2954.88</td>\n",
       "      <td>2953.38</td>\n",
       "      <td>abf074a5-d537-41d2-99e0-c928eb17e310-0</td>\n",
       "      <td>18/05/2020</td>\n",
       "      <td>MMMXXX</td>\n",
       "      <td>LONG</td>\n",
       "      <td>abf074a5-d537-41d2-99e0-c928eb17e310</td>\n",
       "      <td>MOMOES</td>\n",
       "      <td>PROP CODE</td>\n",
       "      <td>INITIATING TRADER</td>\n",
       "      <td>18/05/2020</td>\n",
       "      <td>18:30:03</td>\n",
       "      <td>18/05/2020</td>\n",
       "      <td>18:30:04</td>\n",
       "      <td>18/05/2020</td>\n",
       "      <td>18:31:04</td>\n",
       "    </tr>\n",
       "    <tr>\n",
       "      <th>4</th>\n",
       "      <td>MOMOES-COMPID</td>\n",
       "      <td>MDOC</td>\n",
       "      <td>ESM0</td>\n",
       "      <td>1</td>\n",
       "      <td>2948.12</td>\n",
       "      <td>2948.88</td>\n",
       "      <td>a744e8dc-42e2-48dd-9178-58a2d20f2c33-0</td>\n",
       "      <td>18/05/2020</td>\n",
       "      <td>MMMXXX</td>\n",
       "      <td>LONG</td>\n",
       "      <td>a744e8dc-42e2-48dd-9178-58a2d20f2c33</td>\n",
       "      <td>MOMOES</td>\n",
       "      <td>PROP CODE</td>\n",
       "      <td>INITIATING TRADER</td>\n",
       "      <td>18/05/2020</td>\n",
       "      <td>20:10:16</td>\n",
       "      <td>18/05/2020</td>\n",
       "      <td>20:10:17</td>\n",
       "      <td>18/05/2020</td>\n",
       "      <td>20:11:17</td>\n",
       "    </tr>\n",
       "  </tbody>\n",
       "</table>\n",
       "</div>"
      ],
      "text/plain": [
       "    TargetCompID SenderCompID Symbol  Quantity  StrikePrice   LastPx  \\\n",
       "0  MOMOES-COMPID         MDOC   ESM0         1      2954.12  2953.12   \n",
       "1  MOMOES-COMPID         MDOC   ESM0         1      2953.62  2953.88   \n",
       "2  MOMOES-COMPID         MDOC   ESM0         1      2953.88  2953.62   \n",
       "3  MOMOES-COMPID         MDOC   ESM0         1      2954.88  2953.38   \n",
       "4  MOMOES-COMPID         MDOC   ESM0         1      2948.12  2948.88   \n",
       "\n",
       "                            TradeReportID   TradeDate CFICode  Side  \\\n",
       "0  50bfaefb-53f3-4454-92af-f2fc11ab9176-0  18/05/2020  MMMXXX  LONG   \n",
       "1  9fbe8d52-fcf0-4f2d-a038-ac2aff7673d9-0  18/05/2020  MMMXXX  LONG   \n",
       "2  3c55841c-08e3-4e48-b46b-2496383778f8-0  18/05/2020  MMMXXX  LONG   \n",
       "3  abf074a5-d537-41d2-99e0-c928eb17e310-0  18/05/2020  MMMXXX  LONG   \n",
       "4  a744e8dc-42e2-48dd-9178-58a2d20f2c33-0  18/05/2020  MMMXXX  LONG   \n",
       "\n",
       "                                OrderID PartyID PartyIDSource  \\\n",
       "0  50bfaefb-53f3-4454-92af-f2fc11ab9176  MOMOES     PROP CODE   \n",
       "1  9fbe8d52-fcf0-4f2d-a038-ac2aff7673d9  MOMOES     PROP CODE   \n",
       "2  3c55841c-08e3-4e48-b46b-2496383778f8  MOMOES     PROP CODE   \n",
       "3  abf074a5-d537-41d2-99e0-c928eb17e310  MOMOES     PROP CODE   \n",
       "4  a744e8dc-42e2-48dd-9178-58a2d20f2c33  MOMOES     PROP CODE   \n",
       "\n",
       "           PartyRole Sending_Date Sending_Time Transact_Date Transact_Time  \\\n",
       "0  INITIATING TRADER   18/05/2020     17:27:57    18/05/2020      17:27:58   \n",
       "1  INITIATING TRADER   18/05/2020     17:29:14    18/05/2020      17:29:14   \n",
       "2  INITIATING TRADER   18/05/2020     18:28:40    18/05/2020      18:28:41   \n",
       "3  INITIATING TRADER   18/05/2020     18:30:03    18/05/2020      18:30:04   \n",
       "4  INITIATING TRADER   18/05/2020     20:10:16    18/05/2020      20:10:17   \n",
       "\n",
       "  Maturity_Date Maturity_Time  \n",
       "0    18/05/2020      17:28:58  \n",
       "1    18/05/2020      17:30:14  \n",
       "2    18/05/2020      18:29:41  \n",
       "3    18/05/2020      18:31:04  \n",
       "4    18/05/2020      20:11:17  "
      ]
     },
     "execution_count": 2,
     "metadata": {},
     "output_type": "execute_result"
    }
   ],
   "source": [
    "df.head()"
   ]
  },
  {
   "cell_type": "markdown",
   "id": "a92b4bf1-1c00-45de-a3ca-98a1a9fa76c3",
   "metadata": {
    "tags": []
   },
   "source": [
    "### Step 1: Defining the target variable and selecting features."
   ]
  },
  {
   "cell_type": "markdown",
   "id": "f4a1399e-201d-47a8-a060-09c66f1e2219",
   "metadata": {},
   "source": [
    "In this case, let's asume that the target variable is the \"Side\" column, which indicates whether the transaction is \"LONG\" or \"SHORT\". Since I am interested in predicting financial risks, I might want to use \"Side\" as an indication of risk. Let's convert \"LONG\" to 0 and \"Short\" to 1:"
   ]
  },
  {
   "cell_type": "code",
   "execution_count": 3,
   "id": "bad980d2-226e-4b8a-9e57-3cf4831b02f0",
   "metadata": {
    "tags": []
   },
   "outputs": [],
   "source": [
    "y = df[\"Side\"].apply(lambda x: 1 if x == 'SHORT' else 0)\n",
    "features = [\"StrikePrice\",\"LastPx\"]\n",
    "X = df[features]"
   ]
  },
  {
   "cell_type": "markdown",
   "id": "a347982f-f8a6-4cab-beb7-a7d5b06b65eb",
   "metadata": {},
   "source": [
    "### Step 2: Divide the train and test sets."
   ]
  },
  {
   "cell_type": "code",
   "execution_count": 4,
   "id": "1a53a472-8345-4662-ac90-4951571b15b2",
   "metadata": {
    "tags": []
   },
   "outputs": [],
   "source": [
    "from sklearn.model_selection import train_test_split\n",
    "\n",
    "x_train,x_test,y_train,y_test = train_test_split(X,y,test_size=0.20, random_state=42)"
   ]
  },
  {
   "cell_type": "code",
   "execution_count": 5,
   "id": "921820da-1008-4d82-8992-3acccafc11e9",
   "metadata": {
    "tags": []
   },
   "outputs": [
    {
     "name": "stdout",
     "output_type": "stream",
     "text": [
      "Dimensions of X_train: (40000, 2)\n",
      "Dimensions of y_train: (40000,)\n",
      "Dimensions of X_test: (10000, 2)\n",
      "Dimensions of y_test: (10000,)\n"
     ]
    }
   ],
   "source": [
    "print(\"Dimensions of X_train:\", x_train.shape)\n",
    "print(\"Dimensions of y_train:\", y_train.shape)\n",
    "print(\"Dimensions of X_test:\", x_test.shape)\n",
    "print(\"Dimensions of y_test:\", y_test.shape)"
   ]
  },
  {
   "cell_type": "markdown",
   "id": "0f87b56b-0c14-4430-afd6-617c3ccfef86",
   "metadata": {},
   "source": [
    "### Step 3: Create and train the classification model."
   ]
  },
  {
   "cell_type": "markdown",
   "id": "f01867a7-e039-4837-bbcd-5699d7652dcc",
   "metadata": {},
   "source": [
    "#### Logistic Regression"
   ]
  },
  {
   "cell_type": "code",
   "execution_count": 6,
   "id": "024826fd-9ab5-4b37-a825-b202587ff723",
   "metadata": {},
   "outputs": [],
   "source": [
    "from sklearn.linear_model import LogisticRegression\n",
    "from sklearn.metrics import precision_score, accuracy_score, classification_report, confusion_matrix\n",
    "\n",
    "logistic_model = LogisticRegression()\n",
    "logistic_model.fit(x_train,y_train)\n",
    "y_pred = logistic_model.predict(x_test)"
   ]
  },
  {
   "cell_type": "markdown",
   "id": "cd7ab9c4-981f-4d87-b585-d4648d42570e",
   "metadata": {},
   "source": [
    "#### Model Evaluation"
   ]
  },
  {
   "cell_type": "code",
   "execution_count": 7,
   "id": "9ebac73a-e193-44a3-b97a-a6b54e18b540",
   "metadata": {
    "tags": []
   },
   "outputs": [
    {
     "name": "stdout",
     "output_type": "stream",
     "text": [
      "Accuracy:  0.6283\n",
      "Precision:  0.2842857142857143\n",
      "\n",
      "Confusion Matrix: \n",
      "\n",
      " [[6084  501]\n",
      " [3216  199]]\n",
      "\n",
      "Classification Report: \n",
      "               precision    recall  f1-score   support\n",
      "\n",
      "           0       0.65      0.92      0.77      6585\n",
      "           1       0.28      0.06      0.10      3415\n",
      "\n",
      "    accuracy                           0.63     10000\n",
      "   macro avg       0.47      0.49      0.43     10000\n",
      "weighted avg       0.53      0.63      0.54     10000\n",
      "\n"
     ]
    }
   ],
   "source": [
    "accuracy = accuracy_score(y_test,y_pred)\n",
    "precision = precision_score(y_test,y_pred)\n",
    "conf_matrix = confusion_matrix(y_test,y_pred)\n",
    "class_report = classification_report(y_test,y_pred)\n",
    "\n",
    "\n",
    "print(\"Accuracy: \", accuracy)\n",
    "print(\"Precision: \", precision)\n",
    "print(\"\\nConfusion Matrix: \\n\\n\", conf_matrix)\n",
    "print(\"\\nClassification Report: \\n\", class_report)"
   ]
  },
  {
   "cell_type": "markdown",
   "id": "05559d87-455e-4db2-9c5d-0cdeab7a242e",
   "metadata": {},
   "source": [
    "#### Support Vector Machine (SVM)"
   ]
  },
  {
   "cell_type": "code",
   "execution_count": 8,
   "id": "04293c42-ef21-4dc3-b7ca-19df46c4e4d8",
   "metadata": {
    "tags": []
   },
   "outputs": [],
   "source": [
    "from sklearn.svm import SVC\n",
    "\n",
    "svm_model = SVC()\n",
    "svm_model.fit(x_train, y_train)\n",
    "y_pred_svm = svm_model.predict(x_test)"
   ]
  },
  {
   "cell_type": "markdown",
   "id": "dfea0081-aff0-4bda-bcf2-4b448a83a258",
   "metadata": {},
   "source": [
    "#### Model Evaluation"
   ]
  },
  {
   "cell_type": "code",
   "execution_count": 9,
   "id": "8787e02b-f1e1-4d1a-afc7-d6657afc1e0b",
   "metadata": {
    "tags": []
   },
   "outputs": [
    {
     "name": "stdout",
     "output_type": "stream",
     "text": [
      "Accuracy:  0.6585\n",
      "Precision:  0.0\n",
      "\n",
      "Confusion Matrix: \n",
      "\n",
      " [[6585    0]\n",
      " [3415    0]]\n",
      "\n",
      "Classification Report: \n",
      "               precision    recall  f1-score   support\n",
      "\n",
      "           0       0.66      1.00      0.79      6585\n",
      "           1       0.00      0.00      0.00      3415\n",
      "\n",
      "    accuracy                           0.66     10000\n",
      "   macro avg       0.33      0.50      0.40     10000\n",
      "weighted avg       0.43      0.66      0.52     10000\n",
      "\n"
     ]
    },
    {
     "name": "stderr",
     "output_type": "stream",
     "text": [
      "D:\\Mora\\Programas\\Anaconda\\Anaconda\\Lib\\site-packages\\sklearn\\metrics\\_classification.py:1469: UndefinedMetricWarning: Precision is ill-defined and being set to 0.0 due to no predicted samples. Use `zero_division` parameter to control this behavior.\n",
      "  _warn_prf(average, modifier, msg_start, len(result))\n",
      "D:\\Mora\\Programas\\Anaconda\\Anaconda\\Lib\\site-packages\\sklearn\\metrics\\_classification.py:1469: UndefinedMetricWarning: Precision and F-score are ill-defined and being set to 0.0 in labels with no predicted samples. Use `zero_division` parameter to control this behavior.\n",
      "  _warn_prf(average, modifier, msg_start, len(result))\n",
      "D:\\Mora\\Programas\\Anaconda\\Anaconda\\Lib\\site-packages\\sklearn\\metrics\\_classification.py:1469: UndefinedMetricWarning: Precision and F-score are ill-defined and being set to 0.0 in labels with no predicted samples. Use `zero_division` parameter to control this behavior.\n",
      "  _warn_prf(average, modifier, msg_start, len(result))\n",
      "D:\\Mora\\Programas\\Anaconda\\Anaconda\\Lib\\site-packages\\sklearn\\metrics\\_classification.py:1469: UndefinedMetricWarning: Precision and F-score are ill-defined and being set to 0.0 in labels with no predicted samples. Use `zero_division` parameter to control this behavior.\n",
      "  _warn_prf(average, modifier, msg_start, len(result))\n"
     ]
    }
   ],
   "source": [
    "accuracy_svm = accuracy_score(y_test,y_pred_svm)\n",
    "precision_svm = precision_score(y_test,y_pred_svm)\n",
    "conf_matrix_svm = confusion_matrix(y_test,y_pred_svm)\n",
    "class_report_svm = classification_report(y_test,y_pred_svm)\n",
    "\n",
    "print(\"Accuracy: \", accuracy_svm)\n",
    "print(\"Precision: \",precision_svm)\n",
    "print(\"\\nConfusion Matrix: \\n\\n\", conf_matrix_svm)\n",
    "print(\"\\nClassification Report: \\n\", class_report_svm)"
   ]
  },
  {
   "cell_type": "markdown",
   "id": "0dcbaba0-b786-449b-8451-e2e307b4aa2d",
   "metadata": {
    "tags": []
   },
   "source": [
    "#### Decision Tree Classifier"
   ]
  },
  {
   "cell_type": "code",
   "execution_count": 10,
   "id": "33123d86-6a88-429f-9fa0-87c117bd9333",
   "metadata": {
    "tags": []
   },
   "outputs": [],
   "source": [
    "from sklearn.tree import DecisionTreeClassifier\n",
    "\n",
    "tree_model = DecisionTreeClassifier()\n",
    "tree_model.fit(x_train,y_train)\n",
    "y_pred_tree = tree_model.predict(x_test)"
   ]
  },
  {
   "cell_type": "markdown",
   "id": "9dad3912-67ea-4a76-876e-8af758202466",
   "metadata": {},
   "source": [
    "#### Evaluation"
   ]
  },
  {
   "cell_type": "code",
   "execution_count": 12,
   "id": "9c78c8eb-3bb3-4457-aeaa-f35b818ecac3",
   "metadata": {
    "tags": []
   },
   "outputs": [
    {
     "name": "stdout",
     "output_type": "stream",
     "text": [
      "Accuracy:  0.6812\n",
      "Precision:  0.5367670877874959\n",
      "\n",
      "Confusion Matrix: \n",
      "\n",
      " [[5155 1430]\n",
      " [1758 1657]]\n",
      "\n",
      "Classification Report: \n",
      "               precision    recall  f1-score   support\n",
      "\n",
      "           0       0.75      0.78      0.76      6585\n",
      "           1       0.54      0.49      0.51      3415\n",
      "\n",
      "    accuracy                           0.68     10000\n",
      "   macro avg       0.64      0.63      0.64     10000\n",
      "weighted avg       0.67      0.68      0.68     10000\n",
      "\n"
     ]
    }
   ],
   "source": [
    "accuracy_tree = accuracy_score(y_test,y_pred_tree)\n",
    "precision_tree = precision_score(y_test,y_pred_tree)\n",
    "conf_matrix_tree = confusion_matrix(y_test,y_pred_tree)\n",
    "class_report_tree = classification_report(y_test,y_pred_tree)\n",
    "\n",
    "print(\"Accuracy: \", accuracy_tree)\n",
    "print(\"Precision: \", precision_tree)\n",
    "print(\"\\nConfusion Matrix: \\n\\n\", conf_matrix_tree)\n",
    "print(\"\\nClassification Report: \\n\", class_report_tree)"
   ]
  },
  {
   "cell_type": "markdown",
   "id": "4e3ad286-8698-4e87-acf4-b0b7fa4d852e",
   "metadata": {},
   "source": [
    "#### Random Forest Classifier"
   ]
  },
  {
   "cell_type": "code",
   "execution_count": 13,
   "id": "b8bb2082-46f3-4fd7-ac36-65d464562486",
   "metadata": {
    "tags": []
   },
   "outputs": [],
   "source": [
    "from sklearn.ensemble import RandomForestClassifier\n",
    "\n",
    "forest_model = RandomForestClassifier()\n",
    "forest_model.fit(x_train,y_train)\n",
    "y_pred_forest = forest_model.predict(x_test)"
   ]
  },
  {
   "cell_type": "markdown",
   "id": "146d16ac-aa0b-4ede-ac65-533348365cd8",
   "metadata": {},
   "source": [
    "#### Evaluation"
   ]
  },
  {
   "cell_type": "code",
   "execution_count": 14,
   "id": "01341dfb-3faa-406d-936a-b1c42862803d",
   "metadata": {
    "tags": []
   },
   "outputs": [
    {
     "name": "stdout",
     "output_type": "stream",
     "text": [
      "Accuracy:  0.69\n",
      "Precision:  0.552870090634441\n",
      "\n",
      "Confusion Matrix: \n",
      "\n",
      " [[5253 1332]\n",
      " [1768 1647]]\n",
      "\n",
      "Classification Report: \n",
      "               precision    recall  f1-score   support\n",
      "\n",
      "           0       0.75      0.80      0.77      6585\n",
      "           1       0.55      0.48      0.52      3415\n",
      "\n",
      "    accuracy                           0.69     10000\n",
      "   macro avg       0.65      0.64      0.64     10000\n",
      "weighted avg       0.68      0.69      0.68     10000\n",
      "\n"
     ]
    }
   ],
   "source": [
    "accuracy_forest = accuracy_score(y_test,y_pred_forest)\n",
    "precision_forest = precision_score(y_test,y_pred_forest)\n",
    "conf_matrix_forest = confusion_matrix(y_test,y_pred_forest)\n",
    "class_report_forest = classification_report(y_test,y_pred_forest)\n",
    "\n",
    "print(\"Accuracy: \", accuracy_forest)\n",
    "print(\"Precision: \", precision_forest)\n",
    "print(\"\\nConfusion Matrix: \\n\\n\", conf_matrix_forest)\n",
    "print(\"\\nClassification Report: \\n\", class_report_forest)"
   ]
  },
  {
   "cell_type": "markdown",
   "id": "3afb9276-c200-44d5-a22b-4dc0990abb77",
   "metadata": {},
   "source": [
    "#### Ada Boosting Classifier"
   ]
  },
  {
   "cell_type": "code",
   "execution_count": 15,
   "id": "de933994-2c06-4d3d-b998-f09271a919e0",
   "metadata": {
    "tags": []
   },
   "outputs": [],
   "source": [
    "from sklearn.ensemble import AdaBoostClassifier\n",
    "\n",
    "ada_boost_model = AdaBoostClassifier()\n",
    "ada_boost_model.fit(x_train,y_train)\n",
    "y_pred_ada_boost = ada_boost_model.predict(x_test)"
   ]
  },
  {
   "cell_type": "markdown",
   "id": "1825ebfb-f388-4e71-a8dc-9e9d6957948b",
   "metadata": {},
   "source": [
    "#### Evaluation"
   ]
  },
  {
   "cell_type": "code",
   "execution_count": 16,
   "id": "d2ebe454-72fd-4c62-a754-44d8402a5184",
   "metadata": {
    "tags": []
   },
   "outputs": [
    {
     "name": "stdout",
     "output_type": "stream",
     "text": [
      "Accuracy:  0.6782\n",
      "Precision:  0.5332882730652247\n",
      "\n",
      "Confusion Matrix: \n",
      "\n",
      " [[5204 1381]\n",
      " [1837 1578]]\n",
      "\n",
      "Classification Report: \n",
      "               precision    recall  f1-score   support\n",
      "\n",
      "           0       0.74      0.79      0.76      6585\n",
      "           1       0.53      0.46      0.50      3415\n",
      "\n",
      "    accuracy                           0.68     10000\n",
      "   macro avg       0.64      0.63      0.63     10000\n",
      "weighted avg       0.67      0.68      0.67     10000\n",
      "\n"
     ]
    }
   ],
   "source": [
    "accuracy_ada_boost = accuracy_score(y_test,y_pred_ada_boost)\n",
    "precision_ada_boost = precision_score(y_test,y_pred_ada_boost)\n",
    "conf_matrix_ada_boost = confusion_matrix(y_test,y_pred_ada_boost)\n",
    "class_report_ada_boost = classification_report(y_test,y_pred_ada_boost)\n",
    "\n",
    "print(\"Accuracy: \", accuracy_ada_boost)\n",
    "print(\"Precision: \", precision_ada_boost)\n",
    "print(\"\\nConfusion Matrix: \\n\\n\", conf_matrix_ada_boost)\n",
    "print(\"\\nClassification Report: \\n\", class_report_ada_boost)"
   ]
  },
  {
   "cell_type": "markdown",
   "id": "501b3975-6559-4f64-b523-a7c9ae2e43aa",
   "metadata": {},
   "source": [
    "### Step 4: Model Evaluation and Comparison"
   ]
  },
  {
   "cell_type": "markdown",
   "id": "608ce779-d891-406e-a0e6-4b08db51ae4e",
   "metadata": {
    "tags": []
   },
   "source": [
    "#### Bar graph with accuracies"
   ]
  },
  {
   "cell_type": "code",
   "execution_count": 17,
   "id": "7748cbc3-caf8-4c22-87dd-ca4a4c26d276",
   "metadata": {
    "tags": []
   },
   "outputs": [
    {
     "data": {
      "image/png": "[encoded data removed]",
      "text/plain": [
       "<Figure size 1200x600 with 1 Axes>"
      ]
     },
     "metadata": {},
     "output_type": "display_data"
    }
   ],
   "source": [
    "import matplotlib.pyplot as plt\n",
    "\n",
    "models = [\"Logistic Regression\", \"Support Vector Machine\", \"Decision Tree\", \"Random Forest\", \"AdaBoost\"]\n",
    "\n",
    "accuracies = [accuracy, accuracy_svm, accuracy_tree, accuracy_forest,accuracy_ada_boost]\n",
    "\n",
    "plt.figure(figsize=(12,6))\n",
    "plt.bar(models,accuracies,color=[\"green\",\"yellow\",\"blue\",\"red\",\"purple\"])\n",
    "\n",
    "plt.xlabel(\"Models\")\n",
    "plt.ylabel(\"Accuracy\")\n",
    "plt.title(\"Accuracy Comparison Between Models\")\n",
    "\n",
    "plt.show()"
   ]
  },
  {
   "cell_type": "markdown",
   "id": "6acf846b-e9a1-44c7-9f90-5f228530f142",
   "metadata": {},
   "source": [
    "#### Comparative Table"
   ]
  },
  {
   "cell_type": "code",
   "execution_count": 18,
   "id": "b9420143-4392-48e2-916a-f7ede5f5a350",
   "metadata": {
    "tags": []
   },
   "outputs": [
    {
     "name": "stdout",
     "output_type": "stream",
     "text": [
      "                    model  accuracy  precision\n",
      "0     Logistic Regression    0.6283   0.284286\n",
      "1  Support Vector Machine    0.6585   0.000000\n",
      "2           Decision Tree    0.6812   0.536767\n",
      "3           Random Forest    0.6900   0.552870\n",
      "4                AdaBoost    0.6782   0.533288\n"
     ]
    }
   ],
   "source": [
    "results = pd.DataFrame({\n",
    "    \"model\": [\"Logistic Regression\", \"Support Vector Machine\", \"Decision Tree\", \"Random Forest\", \"AdaBoost\"],\n",
    "    \"accuracy\": [accuracy, accuracy_svm, accuracy_tree, accuracy_forest,accuracy_ada_boost],\n",
    "    \"precision\":[precision, precision_svm, precision_tree, precision_forest, precision_ada_boost]\n",
    "})\n",
    "\n",
    "print(results)"
   ]
  },
  {
   "cell_type": "code",
   "execution_count": null,
   "id": "68ec21a0-5837-4681-8901-5dae63ac3a05",
   "metadata": {},
   "outputs": [],
   "source": []
  }
 ],
 "metadata": {
  "kernelspec": {
   "display_name": "Python 3 (ipykernel)",
   "language": "python",
   "name": "python3"
  },
  "language_info": {
   "codemirror_mode": {
    "name": "ipython",
    "version": 3
   },
   "file_extension": ".py",
   "mimetype": "text/x-python",
   "name": "python",
   "nbconvert_exporter": "python",
   "pygments_lexer": "ipython3",
   "version": "3.11.5"
  }
 },
 "nbformat": 4,
 "nbformat_minor": 5
}
